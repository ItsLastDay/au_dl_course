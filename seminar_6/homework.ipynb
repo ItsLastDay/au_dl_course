{
 "cells": [
  {
   "cell_type": "markdown",
   "metadata": {},
   "source": [
    "### Protein Family Classification"
   ]
  },
  {
   "cell_type": "code",
   "execution_count": 1,
   "metadata": {
    "collapsed": true
   },
   "outputs": [],
   "source": [
    "import numpy as np\n",
    "import pandas as pd\n",
    "\n",
    "import sklearn.utils\n",
    "from sklearn.linear_model import LogisticRegression\n",
    "\n",
    "from sklearn.manifold import TSNE\n",
    "import matplotlib.pyplot as plt\n",
    "\n",
    "import sklearn.preprocessing\n",
    "from sklearn.model_selection import train_test_split\n",
    "import tensorflow as tf\n",
    "\n",
    "from lazy import lazy\n",
    "\n",
    "import collections\n",
    "import re"
   ]
  },
  {
   "cell_type": "code",
   "execution_count": 2,
   "metadata": {
    "collapsed": true
   },
   "outputs": [],
   "source": [
    "family_classification_metadata = pd.read_table('../seminar_5/data/family_classification_metadata.tab')\n",
    "family_classification_sequences = pd.read_table('../seminar_5/data/family_classification_sequences.tab')"
   ]
  },
  {
   "cell_type": "code",
   "execution_count": 3,
   "metadata": {},
   "outputs": [
    {
     "data": {
      "text/html": [
       "<div>\n",
       "<style>\n",
       "    .dataframe thead tr:only-child th {\n",
       "        text-align: right;\n",
       "    }\n",
       "\n",
       "    .dataframe thead th {\n",
       "        text-align: left;\n",
       "    }\n",
       "\n",
       "    .dataframe tbody tr th {\n",
       "        vertical-align: top;\n",
       "    }\n",
       "</style>\n",
       "<table border=\"1\" class=\"dataframe\">\n",
       "  <thead>\n",
       "    <tr style=\"text-align: right;\">\n",
       "      <th></th>\n",
       "      <th>SwissProtAccessionID</th>\n",
       "      <th>LongID</th>\n",
       "      <th>ProteinName</th>\n",
       "      <th>FamilyID</th>\n",
       "      <th>FamilyDescription</th>\n",
       "    </tr>\n",
       "  </thead>\n",
       "  <tbody>\n",
       "    <tr>\n",
       "      <th>0</th>\n",
       "      <td>Q6GZX4</td>\n",
       "      <td>001R_FRG3G</td>\n",
       "      <td>Putative transcription factor 001R</td>\n",
       "      <td>Pox_VLTF3</td>\n",
       "      <td>Poxvirus Late Transcription Factor VLTF3 like</td>\n",
       "    </tr>\n",
       "    <tr>\n",
       "      <th>1</th>\n",
       "      <td>Q6GZX3</td>\n",
       "      <td>002L_FRG3G</td>\n",
       "      <td>Uncharacterized protein 002L</td>\n",
       "      <td>DUF230</td>\n",
       "      <td>Poxvirus proteins of unknown function</td>\n",
       "    </tr>\n",
       "    <tr>\n",
       "      <th>2</th>\n",
       "      <td>Q6GZX0</td>\n",
       "      <td>005R_FRG3G</td>\n",
       "      <td>Uncharacterized protein 005R</td>\n",
       "      <td>US22</td>\n",
       "      <td>US22 like</td>\n",
       "    </tr>\n",
       "    <tr>\n",
       "      <th>3</th>\n",
       "      <td>Q91G88</td>\n",
       "      <td>006L_IIV6</td>\n",
       "      <td>Putative KilA-N domain-containing protein 006L</td>\n",
       "      <td>DUF3627</td>\n",
       "      <td>Protein of unknown function (DUF3627)</td>\n",
       "    </tr>\n",
       "    <tr>\n",
       "      <th>4</th>\n",
       "      <td>Q197F3</td>\n",
       "      <td>007R_IIV3</td>\n",
       "      <td>Uncharacterized protein 007R</td>\n",
       "      <td>DUF2738</td>\n",
       "      <td>Protein of unknown function (DUF2738)</td>\n",
       "    </tr>\n",
       "  </tbody>\n",
       "</table>\n",
       "</div>"
      ],
      "text/plain": [
       "  SwissProtAccessionID      LongID  \\\n",
       "0               Q6GZX4  001R_FRG3G   \n",
       "1               Q6GZX3  002L_FRG3G   \n",
       "2               Q6GZX0  005R_FRG3G   \n",
       "3               Q91G88   006L_IIV6   \n",
       "4               Q197F3   007R_IIV3   \n",
       "\n",
       "                                      ProteinName   FamilyID  \\\n",
       "0              Putative transcription factor 001R  Pox_VLTF3   \n",
       "1                    Uncharacterized protein 002L     DUF230   \n",
       "2                    Uncharacterized protein 005R       US22   \n",
       "3  Putative KilA-N domain-containing protein 006L    DUF3627   \n",
       "4                    Uncharacterized protein 007R    DUF2738   \n",
       "\n",
       "                               FamilyDescription  \n",
       "0  Poxvirus Late Transcription Factor VLTF3 like  \n",
       "1          Poxvirus proteins of unknown function  \n",
       "2                                      US22 like  \n",
       "3          Protein of unknown function (DUF3627)  \n",
       "4          Protein of unknown function (DUF2738)  "
      ]
     },
     "execution_count": 3,
     "metadata": {},
     "output_type": "execute_result"
    }
   ],
   "source": [
    "family_classification_metadata.head()"
   ]
  },
  {
   "cell_type": "code",
   "execution_count": 4,
   "metadata": {},
   "outputs": [
    {
     "data": {
      "text/html": [
       "<div>\n",
       "<style>\n",
       "    .dataframe thead tr:only-child th {\n",
       "        text-align: right;\n",
       "    }\n",
       "\n",
       "    .dataframe thead th {\n",
       "        text-align: left;\n",
       "    }\n",
       "\n",
       "    .dataframe tbody tr th {\n",
       "        vertical-align: top;\n",
       "    }\n",
       "</style>\n",
       "<table border=\"1\" class=\"dataframe\">\n",
       "  <thead>\n",
       "    <tr style=\"text-align: right;\">\n",
       "      <th></th>\n",
       "      <th>Sequences</th>\n",
       "    </tr>\n",
       "  </thead>\n",
       "  <tbody>\n",
       "    <tr>\n",
       "      <th>0</th>\n",
       "      <td>MAFSAEDVLKEYDRRRRMEALLLSLYYPNDRKLLDYKEWSPPRVQV...</td>\n",
       "    </tr>\n",
       "    <tr>\n",
       "      <th>1</th>\n",
       "      <td>MSIIGATRLQNDKSDTYSAGPCYAGGCSAFTPRGTCGKDWDLGEQT...</td>\n",
       "    </tr>\n",
       "    <tr>\n",
       "      <th>2</th>\n",
       "      <td>MQNPLPEVMSPEHDKRTTTPMSKEANKFIRELDKKPGDLAVVSDFV...</td>\n",
       "    </tr>\n",
       "    <tr>\n",
       "      <th>3</th>\n",
       "      <td>MDSLNEVCYEQIKGTFYKGLFGDFPLIVDKKTGCFNATKLCVLGGK...</td>\n",
       "    </tr>\n",
       "    <tr>\n",
       "      <th>4</th>\n",
       "      <td>MEAKNITIDNTTYNFFKFYNINQPLTNLKYLNSERLCFSNAVMGKI...</td>\n",
       "    </tr>\n",
       "  </tbody>\n",
       "</table>\n",
       "</div>"
      ],
      "text/plain": [
       "                                           Sequences\n",
       "0  MAFSAEDVLKEYDRRRRMEALLLSLYYPNDRKLLDYKEWSPPRVQV...\n",
       "1  MSIIGATRLQNDKSDTYSAGPCYAGGCSAFTPRGTCGKDWDLGEQT...\n",
       "2  MQNPLPEVMSPEHDKRTTTPMSKEANKFIRELDKKPGDLAVVSDFV...\n",
       "3  MDSLNEVCYEQIKGTFYKGLFGDFPLIVDKKTGCFNATKLCVLGGK...\n",
       "4  MEAKNITIDNTTYNFFKFYNINQPLTNLKYLNSERLCFSNAVMGKI..."
      ]
     },
     "execution_count": 4,
     "metadata": {},
     "output_type": "execute_result"
    }
   ],
   "source": [
    "family_classification_sequences.head()"
   ]
  },
  {
   "cell_type": "code",
   "execution_count": 5,
   "metadata": {},
   "outputs": [
    {
     "data": {
      "text/html": [
       "<div>\n",
       "<style>\n",
       "    .dataframe thead tr:only-child th {\n",
       "        text-align: right;\n",
       "    }\n",
       "\n",
       "    .dataframe thead th {\n",
       "        text-align: left;\n",
       "    }\n",
       "\n",
       "    .dataframe tbody tr th {\n",
       "        vertical-align: top;\n",
       "    }\n",
       "</style>\n",
       "<table border=\"1\" class=\"dataframe\">\n",
       "  <thead>\n",
       "    <tr style=\"text-align: right;\">\n",
       "      <th></th>\n",
       "      <th>SwissProtAccessionID</th>\n",
       "      <th>LongID</th>\n",
       "      <th>ProteinName</th>\n",
       "      <th>FamilyID</th>\n",
       "      <th>FamilyDescription</th>\n",
       "    </tr>\n",
       "  </thead>\n",
       "  <tbody>\n",
       "    <tr>\n",
       "      <th>count</th>\n",
       "      <td>324018</td>\n",
       "      <td>324018</td>\n",
       "      <td>324018</td>\n",
       "      <td>324018</td>\n",
       "      <td>324018</td>\n",
       "    </tr>\n",
       "    <tr>\n",
       "      <th>unique</th>\n",
       "      <td>287308</td>\n",
       "      <td>295671</td>\n",
       "      <td>56951</td>\n",
       "      <td>7027</td>\n",
       "      <td>6967</td>\n",
       "    </tr>\n",
       "    <tr>\n",
       "      <th>top</th>\n",
       "      <td>Q1X881</td>\n",
       "      <td>POLG_DEN3M</td>\n",
       "      <td>UvrABC system protein B</td>\n",
       "      <td>MMR_HSR1</td>\n",
       "      <td>50S ribosome-binding GTPase</td>\n",
       "    </tr>\n",
       "    <tr>\n",
       "      <th>freq</th>\n",
       "      <td>16</td>\n",
       "      <td>12</td>\n",
       "      <td>1500</td>\n",
       "      <td>3084</td>\n",
       "      <td>3084</td>\n",
       "    </tr>\n",
       "  </tbody>\n",
       "</table>\n",
       "</div>"
      ],
      "text/plain": [
       "       SwissProtAccessionID      LongID              ProteinName  FamilyID  \\\n",
       "count                324018      324018                   324018    324018   \n",
       "unique               287308      295671                    56951      7027   \n",
       "top                  Q1X881  POLG_DEN3M  UvrABC system protein B  MMR_HSR1   \n",
       "freq                     16          12                     1500      3084   \n",
       "\n",
       "                  FamilyDescription  \n",
       "count                        324018  \n",
       "unique                         6967  \n",
       "top     50S ribosome-binding GTPase  \n",
       "freq                           3084  "
      ]
     },
     "execution_count": 5,
     "metadata": {},
     "output_type": "execute_result"
    }
   ],
   "source": [
    "family_classification_metadata.describe()"
   ]
  },
  {
   "cell_type": "markdown",
   "metadata": {},
   "source": [
    "#### Task:\n",
    "    \n",
    "Use your ProtVec embedding from homework 5 to perform protein family classification using RNN.\n",
    "\n",
    "Article with the original research can be found here http://journals.plos.org/plosone/article/file?id=10.1371/journal.pone.0141287&type=printable\n",
    "\n",
    "* use 1000 most frequent families for classification\n",
    "* validate your results on the train-test split\n",
    "* reduce the dimensionality of the protein-space using Stochastic Neighbor Embedding and visualize two most frequent classes\n",
    "* compare your RNN results with SVM\n",
    "* visualization and metrics are up to you"
   ]
  },
  {
   "cell_type": "code",
   "execution_count": 6,
   "metadata": {
    "collapsed": true
   },
   "outputs": [],
   "source": [
    "# Used to limit performance when cluster is loaded\n",
    "CLUSTER_LIMIT = 10 ** 9"
   ]
  },
  {
   "cell_type": "code",
   "execution_count": 7,
   "metadata": {},
   "outputs": [],
   "source": [
    "family_ids = np.array(family_classification_metadata['FamilyID'])\n",
    "# Finding top-k by frequency: https://stackoverflow.com/a/19909411/5338270\n",
    "unique_ids, positions = np.unique(family_ids, return_inverse=True)\n",
    "top_thousand_indices = np.bincount(positions).argsort()[::-1][:1000]\n",
    "top_two_indices = np.bincount(positions).argsort()[::-1][:2]\n",
    "top_two_mask = np.in1d(positions, top_two_indices)[:CLUSTER_LIMIT]\n",
    "top_thousand_mask = np.in1d(positions, top_thousand_indices)\n",
    "top_thousand_families = unique_ids[top_thousand_indices]"
   ]
  },
  {
   "cell_type": "code",
   "execution_count": 8,
   "metadata": {},
   "outputs": [
    {
     "name": "stdout",
     "output_type": "stream",
     "text": [
      "Number of sequences: 261149\n",
      "Max length of sequence: 22152\n"
     ]
    }
   ],
   "source": [
    "sequences_to_classify = np.array(family_classification_sequences)[top_thousand_mask][:CLUSTER_LIMIT]\n",
    "family_ids_gt = family_ids[top_thousand_mask][:CLUSTER_LIMIT]\n",
    "family_ids_gt = sklearn.preprocessing.LabelEncoder().fit_transform(family_ids_gt).reshape((len(sequences_to_classify), 1))\n",
    "family_ids_gt = sklearn.preprocessing.OneHotEncoder(sparse=False).fit_transform(family_ids_gt)\n",
    "print('Number of sequences: {}'.format(len(sequences_to_classify)))\n",
    "print('Max length of sequence: {}'.format(np.apply_along_axis(lambda x: len(x[0]), 1, sequences_to_classify).max()))"
   ]
  },
  {
   "cell_type": "code",
   "execution_count": 9,
   "metadata": {},
   "outputs": [],
   "source": [
    "BATCH_SIZE = 64\n",
    "NUM_CLASSES = 1000\n",
    "MAX_RAW_LEN = 500 #np.apply_along_axis(lambda x: len(x[0]), 1, sequences_to_classify).max()\n",
    "MAX_SEQ_LEN = (MAX_RAW_LEN + 2) // 3\n",
    "NUM_EPOCHS = 1\n",
    "EMBED_LEN = 100"
   ]
  },
  {
   "cell_type": "code",
   "execution_count": 10,
   "metadata": {
    "collapsed": true
   },
   "outputs": [],
   "source": [
    "# Pad sequences with spaces\n",
    "sequences_to_classify = np.apply_along_axis(lambda x: x[0].ljust(MAX_RAW_LEN), 1, sequences_to_classify)"
   ]
  },
  {
   "cell_type": "code",
   "execution_count": 11,
   "metadata": {
    "collapsed": true
   },
   "outputs": [],
   "source": [
    "class MyEmbedding:\n",
    "    def __init__(self):\n",
    "        # Dirty code\n",
    "        self._dict = dict()\n",
    "        with open('final_embedding.txt', 'r') as fl:\n",
    "            inp = fl.read().strip()\n",
    "            \n",
    "            while inp:\n",
    "                trigram = inp[:3]\n",
    "                start_arr = inp.index('[')\n",
    "                end_arr = inp.index(']')\n",
    "                values = eval(re.sub('\\s+', ',', inp[start_arr+1:end_arr-1].strip()))\n",
    "                values = np.array(values)\n",
    "                self._dict[trigram] = values\n",
    "                inp = inp[end_arr + 1:].lstrip()\n",
    "    \n",
    "    def lookup(self, trigram):\n",
    "        return self._dict.get(trigram, np.zeros((100,)))"
   ]
  },
  {
   "cell_type": "code",
   "execution_count": null,
   "metadata": {},
   "outputs": [],
   "source": [
    "embedding = MyEmbedding()"
   ]
  },
  {
   "cell_type": "code",
   "execution_count": null,
   "metadata": {},
   "outputs": [],
   "source": [
    "# Transform strings to real sequences of vectors\n",
    "def get_words(s):\n",
    "    return [embedding.lookup(s[i:i+3]) for i in range(0, min(len(s), MAX_RAW_LEN), 3)]\n",
    "\n",
    "sequences_to_classify = np.array(list(map(lambda s: get_words(s), sequences_to_classify)))"
   ]
  },
  {
   "cell_type": "code",
   "execution_count": null,
   "metadata": {},
   "outputs": [],
   "source": [
    "tsne = TSNE()\n",
    "printable_seq = sequences_to_classify[top_two_mask]\n",
    "printable_seq = np.mean(printable_seq, axis=2)\n",
    "\n",
    "XX = tsne.fit_transform(printable_seq)\n",
    "\n",
    "plt.figure()\n",
    "plt.scatter(XX[:, 0], XX[:, 1], c=['red' if x == 'Helicase_C' else 'green' for x in family_ids[top_two_mask]])\n",
    "plt.show()"
   ]
  },
  {
   "cell_type": "code",
   "execution_count": null,
   "metadata": {
    "collapsed": true
   },
   "outputs": [],
   "source": [
    "class DNASequenceClassifier:\n",
    "    def __init__(self, rnn_hidden_dim, learning_rate, gradient_clipping):\n",
    "        self._rnn_hidden_dim = rnn_hidden_dim\n",
    "        self._learning_rate = learning_rate\n",
    "        self._gradient_clipping = gradient_clipping\n",
    "        \n",
    "        self._create_placeholders()\n",
    "        \n",
    "        self.prediction\n",
    "        self.cost\n",
    "        self.error\n",
    "        self.optimize\n",
    "        \n",
    "        self._create_summaries()\n",
    "        \n",
    "    def _create_summaries(self):\n",
    "        with tf.name_scope(\"summaries\"):\n",
    "            tf.summary.scalar('loss', self.cost)\n",
    "            tf.summary.scalar('error', self.error)\n",
    "            self.summary = tf.summary.merge_all()\n",
    "            self.saver = tf.train.Saver()\n",
    "        \n",
    "    def _create_placeholders(self):\n",
    "        with tf.name_scope('data'):\n",
    "            self.data = tf.placeholder(tf.float32, [None, MAX_SEQ_LEN, EMBED_LEN])\n",
    "            self.target = tf.placeholder(tf.float32, [None, NUM_CLASSES])\n",
    "        \n",
    "    @staticmethod\n",
    "    def _last_relevant(output):\n",
    "        with tf.name_scope(\"last_relevant\"):\n",
    "            batch_size = tf.shape(output)[0]\n",
    "            output_size = int(output.get_shape()[2])\n",
    "            index = tf.range(0, batch_size) * MAX_SEQ_LEN + (MAX_SEQ_LEN - 1)\n",
    "            flat = tf.reshape(output, [-1, output_size])\n",
    "            relevant = tf.gather(flat, index)\n",
    "        return relevant        \n",
    "        \n",
    "    @lazy\n",
    "    def length(self):\n",
    "        with tf.name_scope(\"seq_length\"):\n",
    "            used = tf.sign(tf.reduce_max(tf.abs(self.data), reduction_indices=2))\n",
    "            length = tf.reduce_sum(used, reduction_indices=1)\n",
    "            length = tf.cast(length, tf.int32)\n",
    "        return length        \n",
    "        \n",
    "    @lazy\n",
    "    def prediction(self):\n",
    "        with tf.name_scope('rnn'):\n",
    "            output, _ = tf.nn.dynamic_rnn(\n",
    "                tf.contrib.rnn.GRUCell(self._rnn_hidden_dim),\n",
    "                self.data,\n",
    "                dtype=tf.float32,\n",
    "                sequence_length=self.length\n",
    "            )\n",
    "            \n",
    "            # [batch_size, time, dims]\n",
    "            #last_out = tf.gather(output, MAX_SEQ_LEN - 1, axis=1)\n",
    "            last_out = self._last_relevant(output)\n",
    "            \n",
    "            with tf.name_scope(\"softmax_layer\"):\n",
    "                weight = tf.Variable(tf.truncated_normal(\n",
    "                    [self._rnn_hidden_dim, NUM_CLASSES], stddev=0.01))\n",
    "                bias = tf.Variable(tf.constant(0.1))\n",
    "                self._logits = tf.matmul(last_out, weight) + bias\n",
    "                prediction = tf.nn.softmax(self._logits)\n",
    "                \n",
    "                return prediction\n",
    "        \n",
    "    @lazy\n",
    "    def cost(self):\n",
    "        with tf.name_scope('softmax'):\n",
    "            return tf.reduce_mean(tf.nn.softmax_cross_entropy_with_logits(labels=self.target,\n",
    "                                                      logits=self._logits))\n",
    "        \n",
    "    @lazy\n",
    "    def error(self):\n",
    "        with tf.name_scope('accuracy'):\n",
    "            self.mistakes = tf.not_equal(\n",
    "                tf.argmax(self.target, 1), tf.argmax(self.prediction, 1))\n",
    "            return tf.reduce_mean(tf.cast(self.mistakes, tf.float32))\n",
    "        \n",
    "    @lazy\n",
    "    def optimize(self):\n",
    "        with tf.name_scope(\"optimization\"):\n",
    "            optimizer=tf.train.AdamOptimizer(self._learning_rate)\n",
    "            gradient = optimizer.compute_gradients(self.cost)\n",
    "            limit = self._gradient_clipping\n",
    "            gradient = [\n",
    "                (tf.clip_by_value(g, -limit, limit), v)\n",
    "                if g is not None else (None, v)\n",
    "                for g, v in gradient]\n",
    "            optimize = optimizer.apply_gradients(gradient)\n",
    "            \n",
    "        return optimize"
   ]
  },
  {
   "cell_type": "code",
   "execution_count": null,
   "metadata": {},
   "outputs": [],
   "source": [
    "X_train, X_test, y_train, y_test = train_test_split(sequences_to_classify, family_ids_gt)\n",
    "print(X_train.shape)\n",
    "print(y_train.shape)\n",
    "print(X_test.shape)\n",
    "print(y_test.shape)"
   ]
  },
  {
   "cell_type": "code",
   "execution_count": null,
   "metadata": {},
   "outputs": [],
   "source": [
    "baseline_cls = LogisticRegression()\n",
    "baseline_cls.fit(np.mean(X_train, axis=2), np.argmax(y_train, axis=1))\n",
    "print('Baseline score on test set: {}%'.format(100 * baseline_cls.score(np.mean(X_test, axis=2), \n",
    "                                                                 np.argmax(y_test, axis=1))))"
   ]
  },
  {
   "cell_type": "code",
   "execution_count": null,
   "metadata": {},
   "outputs": [],
   "source": [
    "model = DNASequenceClassifier(rnn_hidden_dim=150, learning_rate=1.9, gradient_clipping=100)"
   ]
  },
  {
   "cell_type": "code",
   "execution_count": null,
   "metadata": {},
   "outputs": [],
   "source": [
    "config = tf.ConfigProto(\n",
    "    device_count = {'GPU': 0},\n",
    ")\n",
    "\n",
    "with tf.Session(config=config) as sess:\n",
    "    sess.run(tf.global_variables_initializer())\n",
    "    \n",
    "    ckpt = tf.train.get_checkpoint_state('checkpoints')\n",
    "    if ckpt:\n",
    "        model.saver.restore(sess, ckpt.model_checkpoint_path)\n",
    "\n",
    "    for epoch in range(NUM_EPOCHS):\n",
    "        sklearn.utils.shuffle(X_train, y_train)\n",
    "        for i in range(0, len(X_train), BATCH_SIZE):\n",
    "            feed_dict = {model.data: X_train[i:i+BATCH_SIZE], model.target: y_train[i:i+BATCH_SIZE]}\n",
    "            cost, error, _, summary_str = sess.run([model.cost, model.error, model.optimize, model.summary], feed_dict=feed_dict)\n",
    "            print('{} {}: {:3.1f}% loss={}'.format(epoch, i, 100 * (1 - error), cost))\n",
    "        model.saver.save(sess, 'checkpoints/rnn', epoch)\n",
    "\n",
    "    \n",
    "    feed_dict = {model.data: X_test, model.target: y_test}\n",
    "    \n",
    "    total_accuracy, total_loss = sess.run([model.error, model.cost], feed_dict)\n",
    "    print('Statistics on test set\\nAccuracy: {}, loss: {}'.format(1 - total_accuracy, total_loss))"
   ]
  }
 ],
 "metadata": {
  "kernelspec": {
   "display_name": "Python 3",
   "language": "python",
   "name": "python3"
  },
  "language_info": {
   "codemirror_mode": {
    "name": "ipython",
    "version": 3
   },
   "file_extension": ".py",
   "mimetype": "text/x-python",
   "name": "python",
   "nbconvert_exporter": "python",
   "pygments_lexer": "ipython3",
   "version": "3.6.1"
  }
 },
 "nbformat": 4,
 "nbformat_minor": 2
}
