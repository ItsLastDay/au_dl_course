{
 "cells": [
  {
   "cell_type": "code",
   "execution_count": 1,
   "metadata": {
    "collapsed": true
   },
   "outputs": [],
   "source": [
    "import os\n",
    "import numpy as np\n",
    "import matplotlib.pyplot as plt\n",
    "import tensorflow as tf\n",
    "import xlrd"
   ]
  },
  {
   "cell_type": "markdown",
   "metadata": {},
   "source": [
    "Step 1: read in data from the .xls file"
   ]
  },
  {
   "cell_type": "code",
   "execution_count": 2,
   "metadata": {
    "collapsed": true
   },
   "outputs": [],
   "source": [
    "DATA_FILE = '../data/fire_theft.xls'\n",
    "\n",
    "book = xlrd.open_workbook(DATA_FILE, encoding_override=\"utf-8\")\n",
    "sheet = book.sheet_by_index(0)\n",
    "data = np.asarray([sheet.row_values(i) for i in range(1, sheet.nrows)])\n",
    "n_samples = sheet.nrows - 1"
   ]
  },
  {
   "cell_type": "markdown",
   "metadata": {},
   "source": [
    "Step 2: create placeholders for input X (number of fire) and label Y (number of theft)"
   ]
  },
  {
   "cell_type": "code",
   "execution_count": 3,
   "metadata": {
    "collapsed": true
   },
   "outputs": [],
   "source": [
    "X = tf.placeholder(tf.float32, name=\"X\")\n",
    "Y = tf.placeholder(tf.float32, name=\"Y\")"
   ]
  },
  {
   "cell_type": "markdown",
   "metadata": {},
   "source": [
    "Step 3: create weight and bias, initialized to 0"
   ]
  },
  {
   "cell_type": "code",
   "execution_count": 4,
   "metadata": {
    "collapsed": true
   },
   "outputs": [],
   "source": [
    "w = tf.Variable(0.0, name='w')\n",
    "b = tf.Variable(0.0, name='b')"
   ]
  },
  {
   "cell_type": "markdown",
   "metadata": {},
   "source": [
    "Step 4: build model to predict Y"
   ]
  },
  {
   "cell_type": "code",
   "execution_count": 5,
   "metadata": {
    "collapsed": true
   },
   "outputs": [],
   "source": [
    "Y_predicted = w * X + b"
   ]
  },
  {
   "cell_type": "markdown",
   "metadata": {},
   "source": [
    "Step 5: use the square error as the loss function"
   ]
  },
  {
   "cell_type": "code",
   "execution_count": 6,
   "metadata": {
    "collapsed": true
   },
   "outputs": [],
   "source": [
    "loss = tf.square(Y - Y_predicted)"
   ]
  },
  {
   "cell_type": "markdown",
   "metadata": {},
   "source": [
    "Step 5a: implement Huber loss function from lecture and try it out"
   ]
  },
  {
   "cell_type": "code",
   "execution_count": 7,
   "metadata": {
    "collapsed": true
   },
   "outputs": [],
   "source": [
    "def huber_loss(labels, predictions, delta=1.0):\n",
    "    diff = tf.abs(labels - predictions)\n",
    "    condition = tf.less(diff, delta)\n",
    "    case_a = tf.square(diff) / 2\n",
    "    case_b = delta * diff - tf.square(delta) / 2\n",
    "    return tf.cond(condition, lambda: case_a, lambda: case_b)"
   ]
  },
  {
   "cell_type": "code",
   "execution_count": 8,
   "metadata": {
    "collapsed": true
   },
   "outputs": [],
   "source": [
    "loss = huber_loss(Y, Y_predicted)"
   ]
  },
  {
   "cell_type": "markdown",
   "metadata": {},
   "source": [
    "Step 6: using gradient descent with learning rate of 0.01 to minimize loss"
   ]
  },
  {
   "cell_type": "code",
   "execution_count": 9,
   "metadata": {
    "collapsed": true
   },
   "outputs": [],
   "source": [
    "optimizer = tf.train.GradientDescentOptimizer(learning_rate=0.001).minimize(loss)"
   ]
  },
  {
   "cell_type": "code",
   "execution_count": 10,
   "metadata": {
    "collapsed": true
   },
   "outputs": [],
   "source": [
    "sess = tf.Session() # prefer with tf.Session() as sess: in your code"
   ]
  },
  {
   "cell_type": "markdown",
   "metadata": {},
   "source": [
    "Step 7: initialize the necessary variables, in this case, w and b"
   ]
  },
  {
   "cell_type": "code",
   "execution_count": 11,
   "metadata": {
    "collapsed": true
   },
   "outputs": [],
   "source": [
    "sess.run(tf.global_variables_initializer())\n",
    "writer = tf.summary.FileWriter('./graphs/linear_reg', sess.graph)"
   ]
  },
  {
   "cell_type": "markdown",
   "metadata": {},
   "source": [
    "Step 8: train the model"
   ]
  },
  {
   "cell_type": "code",
   "execution_count": 12,
   "metadata": {},
   "outputs": [
    {
     "name": "stdout",
     "output_type": "stream",
     "text": [
      "Epoch 0: 30.231313444319227\n",
      "Epoch 1: 24.488211881546746\n",
      "Epoch 2: 19.95247097987504\n",
      "Epoch 3: 18.415514595407462\n",
      "Epoch 4: 17.62403281920013\n",
      "Epoch 5: 17.08878264540718\n",
      "Epoch 6: 16.827302360641106\n",
      "Epoch 7: 16.676950227957043\n",
      "Epoch 8: 16.589362557090464\n",
      "Epoch 9: 16.547880798134777\n",
      "Epoch 10: 16.54316401366322\n",
      "Epoch 11: 16.53523531635957\n",
      "Epoch 12: 16.527739029466396\n",
      "Epoch 13: 16.520207939580793\n",
      "Epoch 14: 16.51269836031965\n",
      "Epoch 15: 16.505204298932636\n",
      "Epoch 16: 16.497726049274206\n",
      "Epoch 17: 16.490262628311203\n",
      "Epoch 18: 16.48281567916274\n",
      "Epoch 19: 16.475384406479343\n",
      "Epoch 20: 16.467968803342607\n",
      "Epoch 21: 16.460568067573366\n",
      "Epoch 22: 16.453183558459084\n",
      "Epoch 23: 16.445813909350406\n",
      "Epoch 24: 16.438459956220218\n",
      "Epoch 25: 16.431121296870213\n",
      "Epoch 26: 16.42379860965801\n",
      "Epoch 27: 16.41649028893915\n",
      "Epoch 28: 16.409198701381683\n",
      "Epoch 29: 16.401921452111786\n",
      "Epoch 30: 16.394659822185833\n",
      "Epoch 31: 16.38741318797249\n",
      "Epoch 32: 16.38018172096816\n",
      "Epoch 33: 16.37296574961926\n",
      "Epoch 34: 16.36576510500163\n",
      "Epoch 35: 16.358579074853054\n",
      "Epoch 36: 16.351408738110745\n",
      "Epoch 37: 16.344253146777017\n",
      "Epoch 38: 16.337112197386368\n",
      "Epoch 39: 16.32998634916952\n",
      "Epoch 40: 16.322875844669483\n",
      "Epoch 41: 16.31578067016034\n",
      "Epoch 42: 16.308699420098925\n",
      "Epoch 43: 16.30163342688632\n",
      "Epoch 44: 16.294582396135887\n",
      "Epoch 45: 16.28755898626211\n",
      "Epoch 46: 16.28047544640001\n",
      "Epoch 47: 16.273403990858544\n",
      "Epoch 48: 16.26633599188755\n",
      "Epoch 49: 16.259274158272007\n",
      "Epoch 50: 16.252216737628693\n",
      "Epoch 51: 16.245164091033594\n",
      "Epoch 52: 16.23811663793666\n",
      "Epoch 53: 16.231074809673288\n",
      "Epoch 54: 16.224036197488505\n",
      "Epoch 55: 16.217004282843497\n",
      "Epoch 56: 16.20997659099521\n",
      "Epoch 57: 16.202954309684824\n",
      "Epoch 58: 16.195937064526202\n",
      "Epoch 59: 16.18892476707697\n",
      "Epoch 60: 16.181917927275034\n",
      "Epoch 61: 16.174915446411994\n",
      "Epoch 62: 16.167918239409726\n",
      "Epoch 63: 16.16092608089093\n",
      "Epoch 64: 16.153939434285608\n",
      "Epoch 65: 16.146957043220894\n",
      "Epoch 66: 16.13998002153433\n",
      "Epoch 67: 16.13300782732854\n",
      "Epoch 68: 16.126041477957013\n",
      "Epoch 69: 16.119078718775114\n",
      "Epoch 70: 16.112122138408484\n",
      "Epoch 71: 16.105170149403246\n",
      "Epoch 72: 16.09822299353116\n",
      "Epoch 73: 16.091280936884385\n",
      "Epoch 74: 16.084344242946134\n",
      "Epoch 75: 16.07741223408985\n",
      "Epoch 76: 16.070485063166068\n",
      "Epoch 77: 16.063563120213942\n",
      "Epoch 78: 16.056645905668294\n",
      "Epoch 79: 16.049733855878003\n",
      "Epoch 80: 16.042827161450294\n",
      "Epoch 81: 16.035924382297146\n",
      "Epoch 82: 16.029027766794787\n",
      "Epoch 83: 16.022134729084513\n",
      "Epoch 84: 16.015313830764388\n",
      "Epoch 85: 16.00842140499957\n",
      "Epoch 86: 16.001477149819646\n",
      "Epoch 87: 15.994540542408469\n",
      "Epoch 88: 15.987603935335452\n",
      "Epoch 89: 15.980666862944851\n",
      "Epoch 90: 15.973728769092954\n",
      "Epoch 91: 15.966792559217927\n",
      "Epoch 92: 15.959854714971568\n",
      "Epoch 93: 15.952918051132222\n",
      "Epoch 94: 15.945980502070771\n",
      "Epoch 95: 15.939043304794247\n",
      "Epoch 96: 15.932106254943868\n",
      "Epoch 97: 15.925168887534667\n",
      "Epoch 98: 15.918231542665689\n",
      "Epoch 99: 15.91129489017961\n"
     ]
    }
   ],
   "source": [
    "for i in range(100): # train the model 100 epochs\n",
    "    total_loss = 0\n",
    "    for x, y in data:\n",
    "        # Session runs train_op and fetch values of loss\n",
    "        _, l = sess.run([optimizer, loss], feed_dict={X:x, Y:y})\n",
    "        total_loss += l\n",
    "    print('Epoch {0}: {1}'.format(i, total_loss/float(n_samples)))\n",
    "\n",
    "# close the writer when you're done using it\n",
    "writer.close() "
   ]
  },
  {
   "cell_type": "markdown",
   "metadata": {},
   "source": [
    "Step 9: output the values of w and b"
   ]
  },
  {
   "cell_type": "code",
   "execution_count": 13,
   "metadata": {
    "collapsed": true
   },
   "outputs": [],
   "source": [
    "w, b = sess.run([w, b])"
   ]
  },
  {
   "cell_type": "markdown",
   "metadata": {},
   "source": [
    "Step 10: plot the results"
   ]
  },
  {
   "cell_type": "code",
   "execution_count": 14,
   "metadata": {},
   "outputs": [
    {
     "data": {
      "image/png": "[encoded data removed]",
      "text/plain": [
       "<matplotlib.figure.Figure at 0x7fe58ff9d898>"
      ]
     },
     "metadata": {},
     "output_type": "display_data"
    }
   ],
   "source": [
    "X, Y = data[:, 0], data[:, 1]\n",
    "plt.scatter(X, Y, label=\"Real data\")\n",
    "plt.plot(X, w * X + b, label=\"Predicted data\", color='r')\n",
    "plt.legend()\n",
    "plt.show()"
   ]
  }
 ],
 "metadata": {
  "kernelspec": {
   "display_name": "tensorflow_py3",
   "language": "python",
   "name": "tensorflow_py3"
  },
  "language_info": {
   "codemirror_mode": {
    "name": "ipython",
    "version": 3
   },
   "file_extension": ".py",
   "mimetype": "text/x-python",
   "name": "python",
   "nbconvert_exporter": "python",
   "pygments_lexer": "ipython3",
   "version": "3.5.2"
  }
 },
 "nbformat": 4,
 "nbformat_minor": 2
}
